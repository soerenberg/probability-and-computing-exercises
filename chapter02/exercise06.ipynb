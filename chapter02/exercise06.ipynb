{
 "cells": [
  {
   "cell_type": "code",
   "execution_count": 1,
   "id": "compliant-neutral",
   "metadata": {},
   "outputs": [],
   "source": [
    "import numpy as np"
   ]
  },
  {
   "cell_type": "markdown",
   "id": "acquired-acrobat",
   "metadata": {},
   "source": [
    "# Exercise 2.6\n",
    "\n",
    "Suppose that we independently roll two standard six-sided dice. Let $X_1$ be the number that shows on the first die, $X_2$ the number on the second die, and $X$ the sum of the numbers on the two dice.\n",
    "\n",
    "(a) What is $E[X | X_1 \\text{ is even}]$?\n",
    "\n",
    "**Solution:** By linearity\n",
    "\n",
    "$$\n",
    "E[X | X_1 \\text{ is even}] = E[X_1 | X_1 \\text{ is even}] + E[X_2 | X_1 \\text{ is even}]\n",
    "= \\frac{2+4+6}{3} + \\frac{7}{2} = \\frac{15}{2} = 7.5.\n",
    "$$\n",
    "\n",
    "Intuitively, this makes sense since we expect this expectation value to be slightly larger than $E[X] = 7$ since the even numbers are larger on average than the odd numbers on a standard die.\n",
    "\n",
    "(b) What is $E[X | X_1 = X_2]$?\n",
    "\n",
    "Note that if $X_1 = X_2$ then $X$ is even. Thus,\n",
    "\n",
    "$$\n",
    "E[X | X_1 = X_2] = \\sum_{i=2}^{12} i \\cdot P(X=i | X_1 = X_2) = \\frac{2+4+\\dots+12}{6} = 7.\n",
    "$$\n",
    "\n",
    "Here we used that $P(X=i | X_1 = X_2) = 1/6$ for even $i$.\n",
    "\n",
    "(c) What is $E[X_1 | X=9]$?\n",
    "\n",
    "If $X=9$ then there are the only $4$ possible values for $(X_1, X_2)$: $(3,6),(4,5),(5,4),(6,3)$. Thus,\n",
    "\n",
    "$$\n",
    "E[X_1 | X=9] = \\frac{3 + 4+ 5 + 6}{4} = \\frac 9 2 = 4.5.\n",
    "$$\n",
    "\n",
    "(d) What is $E[X_1 - X_2 | X=k]$ for $k$ in the range $[2,12]$?\n",
    "\n",
    "Note that $X_1 - X_2 \\in \\{-5, 4, \\dots, 5\\}$ and that $P(X_1-X_2=i | X=k) = P(X_1-X_2= -i | X=k)$ for $i \\in \\{-5, 4, \\dots, 5\\}$. Therefore, we have\n",
    "\n",
    "$$\n",
    "E[X_1 - X_2 | X=k] = \\sum_{i=-5}^5 i \\cdot P(X_1-X_2=i | X=k) = 0.\n",
    "$$"
   ]
  },
  {
   "cell_type": "code",
   "execution_count": 2,
   "id": "congressional-singer",
   "metadata": {},
   "outputs": [
    {
     "name": "stdout",
     "output_type": "stream",
     "text": [
      "sampled answer for (a): 7.499272007332312\n",
      "\n",
      "sampled answer for (b): 7.00297383088835\n",
      "\n",
      "sampled answer for (b): 4.501544227521886\n",
      "\n",
      "sampled answer for (d)\n",
      "k= 2: 0.0\n",
      "k= 3: -0.000497820910275419\n",
      "k= 4: -0.00014398934478848565\n",
      "k= 5: 0.0037980995102071674\n",
      "k= 6: -0.0030300434929995917\n",
      "k= 7: -0.002319737212486128\n",
      "k= 8: 0.003350165815196208\n",
      "k= 9: 0.0030884550437718554\n",
      "k= 10: -0.0009050957853026369\n",
      "k= 11: 4.496265401957134e-05\n",
      "k= 12: 0.0\n"
     ]
    }
   ],
   "source": [
    "num_samples = 10**7\n",
    "\n",
    "samples = np.random.randint(low=1, high=7, size=(num_samples, 2))\n",
    "\n",
    "# part (a)\n",
    "print(f\"sampled answer for (a): {samples[samples[:, 0] % 2 == 0, :].sum(axis=1).mean()}\")\n",
    "\n",
    "# part (b)\n",
    "print(f\"\\nsampled answer for (b): {samples[samples[:, 0] == samples[:, 1], :].sum(axis=1).mean()}\")\n",
    "\n",
    "# part (c)\n",
    "print(f\"\\nsampled answer for (b): {samples[samples.sum(axis=1) == 9][:, 0].mean()}\")\n",
    "\n",
    "# part (d)\n",
    "print(\"\\nsampled answer for (d)\")\n",
    "for k in range(2, 13):\n",
    "    cond_samples = samples[samples.sum(axis=1) == k]\n",
    "    print(f\"k= {k}: {(cond_samples[:, 0] - cond_samples[:, 1]).mean()}\")"
   ]
  },
  {
   "cell_type": "code",
   "execution_count": null,
   "id": "substantial-mistress",
   "metadata": {},
   "outputs": [],
   "source": []
  }
 ],
 "metadata": {
  "kernelspec": {
   "display_name": "Python 3",
   "language": "python",
   "name": "python3"
  },
  "language_info": {
   "codemirror_mode": {
    "name": "ipython",
    "version": 3
   },
   "file_extension": ".py",
   "mimetype": "text/x-python",
   "name": "python",
   "nbconvert_exporter": "python",
   "pygments_lexer": "ipython3",
   "version": "3.8.5"
  }
 },
 "nbformat": 4,
 "nbformat_minor": 5
}
