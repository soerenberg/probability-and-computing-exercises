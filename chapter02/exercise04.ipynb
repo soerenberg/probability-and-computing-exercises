{
 "cells": [
  {
   "cell_type": "markdown",
   "id": "interested-mexican",
   "metadata": {},
   "source": [
    "# Exercise 2.4\n",
    "Prove that $E[X^k] \\geq E[X]^k$ for any even integer $k\\geq 1.$\n",
    "\n",
    "**Solution:**\n",
    "\n",
    "If $k$ is even then so is $k-2$. Therefore, the second derivative of the function $f(x)=x^k$ is positive for all $x$ and $f$ is a convex function. The claim then follows by Jensen's inequality."
   ]
  },
  {
   "cell_type": "code",
   "execution_count": null,
   "id": "regional-rebound",
   "metadata": {},
   "outputs": [],
   "source": []
  }
 ],
 "metadata": {
  "kernelspec": {
   "display_name": "Python 3",
   "language": "python",
   "name": "python3"
  },
  "language_info": {
   "codemirror_mode": {
    "name": "ipython",
    "version": 3
   },
   "file_extension": ".py",
   "mimetype": "text/x-python",
   "name": "python",
   "nbconvert_exporter": "python",
   "pygments_lexer": "ipython3",
   "version": "3.8.5"
  }
 },
 "nbformat": 4,
 "nbformat_minor": 5
}
