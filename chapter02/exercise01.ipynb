{
 "cells": [
  {
   "cell_type": "code",
   "execution_count": 1,
   "id": "vocal-oliver",
   "metadata": {},
   "outputs": [],
   "source": [
    "import numpy as np"
   ]
  },
  {
   "cell_type": "markdown",
   "id": "frozen-stevens",
   "metadata": {},
   "source": [
    "# Exercise 2.1\n",
    "\n",
    "Suppose we roll a fair $k$-sided die with the numbers 1 through $k$ on the die's faces. If $X$ is the number that appears, what is $E(X)$?\n",
    "\n",
    "**Solution:** \n",
    "\n",
    "$$\n",
    "E(X) = \\sum_{i=1}^K i \\cdot P(X=i) = \\sum_{i=1}^K i \\frac 1 K = \\frac 1 K \\frac{K(K+1)}{2} =\n",
    "\\frac{K+1}{2},\n",
    "$$\n",
    "\n",
    "by using the Gauss' infamous summation formula.\n",
    "\n",
    "This is consistent with a $6$ sided die having expectation value of $7/2$.\n",
    "\n",
    "We can also approximate the expectation value of a $k=117$-sided die, which should be $118/2=59$, by sampling as follows."
   ]
  },
  {
   "cell_type": "code",
   "execution_count": 2,
   "id": "secure-owner",
   "metadata": {},
   "outputs": [
    {
     "data": {
      "text/plain": [
       "59.03891"
      ]
     },
     "execution_count": 2,
     "metadata": {},
     "output_type": "execute_result"
    }
   ],
   "source": [
    "num_samples = 100000\n",
    "k = 117\n",
    "\n",
    "np.random.randint(low=1, high=k+1, size=num_samples).mean()"
   ]
  },
  {
   "cell_type": "code",
   "execution_count": null,
   "id": "partial-cycle",
   "metadata": {},
   "outputs": [],
   "source": []
  }
 ],
 "metadata": {
  "kernelspec": {
   "display_name": "Python 3",
   "language": "python",
   "name": "python3"
  },
  "language_info": {
   "codemirror_mode": {
    "name": "ipython",
    "version": 3
   },
   "file_extension": ".py",
   "mimetype": "text/x-python",
   "name": "python",
   "nbconvert_exporter": "python",
   "pygments_lexer": "ipython3",
   "version": "3.8.5"
  }
 },
 "nbformat": 4,
 "nbformat_minor": 5
}
