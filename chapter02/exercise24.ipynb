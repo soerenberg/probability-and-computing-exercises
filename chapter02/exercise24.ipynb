{
 "cells": [
  {
   "cell_type": "code",
   "execution_count": 1,
   "id": "informative-swiss",
   "metadata": {},
   "outputs": [],
   "source": [
    "import numpy as np"
   ]
  },
  {
   "cell_type": "markdown",
   "id": "neutral-assault",
   "metadata": {},
   "source": [
    "# Exercise 2.24\n",
    "\n",
    "We roll a standard fair die over and over. What is the expected number of rolls until the first pair of consecutive sixes appear?\n",
    "\n",
    "**Solution:** Let $X$ be number of throws until we see two consecutive sixes and let $Y$ be the outcome of the first throw. First, we conclude that\n",
    "\n",
    "$$\n",
    "\\begin{align*}\n",
    "E[X | Y=6] &= \\sum_{i=2}^\\infty i P(X=i | Y=6) = 2 \\frac{1}{6} + \\sum_{i=3}^\\infty i P(X=i | Y=6)\n",
    "= \\frac{2}{6} + \\frac{5}{6}(2 + E[X]),\\\\\n",
    "E[X | Y\\neq 6] &= 1 + E[X].\n",
    "\\end{align*}\n",
    "$$\n",
    "\n",
    "Then,\n",
    "\n",
    "$$\n",
    "E[X] = \\sum_{y=1}^6 P(Y=y) E[X|Y=y] = \\frac 5 6 (1 + E[X]) + \\frac 1 6 \\left(\\frac{2}{6} + \\frac{5}{6}(2 + E[X])\\right)\n",
    "= \\frac{35}{36} E[X] + \\frac{42}{36},\n",
    "$$\n",
    "\n",
    "and thus\n",
    "\n",
    "$$\n",
    "E[X] = 42.\n",
    "$$\n",
    "\n",
    "We verify this result by simple sampling."
   ]
  },
  {
   "cell_type": "code",
   "execution_count": 2,
   "id": "considered-environment",
   "metadata": {},
   "outputs": [
    {
     "data": {
      "text/plain": [
       "41.89661558056326"
      ]
     },
     "execution_count": 2,
     "metadata": {},
     "output_type": "execute_result"
    }
   ],
   "source": [
    "num_samples = 10**7\n",
    "\n",
    "samples = np.random.randint(low=1, high=7, size=num_samples)\n",
    "consecutive_sixes = np.array([6,6])\n",
    "\n",
    "i = 0\n",
    "lengths = []\n",
    "while i < len(samples) - 1:\n",
    "    if np.array_equal(samples[i:i+2], consecutive_sixes):\n",
    "        lengths.append(i)\n",
    "        i += 1\n",
    "    i += 1\n",
    "    \n",
    "np.diff(lengths).mean()"
   ]
  },
  {
   "cell_type": "code",
   "execution_count": null,
   "id": "quantitative-shield",
   "metadata": {},
   "outputs": [],
   "source": []
  }
 ],
 "metadata": {
  "kernelspec": {
   "display_name": "Python 3",
   "language": "python",
   "name": "python3"
  },
  "language_info": {
   "codemirror_mode": {
    "name": "ipython",
    "version": 3
   },
   "file_extension": ".py",
   "mimetype": "text/x-python",
   "name": "python",
   "nbconvert_exporter": "python",
   "pygments_lexer": "ipython3",
   "version": "3.8.5"
  }
 },
 "nbformat": 4,
 "nbformat_minor": 5
}
