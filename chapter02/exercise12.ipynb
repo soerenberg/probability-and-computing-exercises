{
 "cells": [
  {
   "cell_type": "code",
   "execution_count": 1,
   "id": "sustainable-breakdown",
   "metadata": {},
   "outputs": [],
   "source": [
    "import numpy as np"
   ]
  },
  {
   "cell_type": "markdown",
   "id": "demanding-market",
   "metadata": {},
   "source": [
    "# Exercise 2.12\n",
    "We draw cards uniformly at random with replacement from a deck of $n$ cards. What is the expected number of cards we must draw until we have seen all $n$ cards in the deck? If we draw $2n$ cards, what is the expected number of cards in the deck that are not chosen at all? Chosen exactly once?\n",
    "\n",
    "**Solution:** Let $X$ be the random variable of after how many draws we have seen all cards and let\n",
    "$X_i$, $i=1,\\dots,n$, be the number of cards drawn until we see the $i$th unique card. Then we have\n",
    "\n",
    "$$\n",
    "X = \\sum_{i=1}^n X_i.\n",
    "$$\n",
    "\n",
    "$X_i$, $i=1,\\dots,n$, is geometric distributed with probability of success $p_i := 1 - \\frac{i-1}{n}$. Therefore,\n",
    "\n",
    "$$\n",
    "\\begin{align*}\n",
    "P(X_i = k) &=  (1 - p_i)^{k-1} p_i,\\\\\n",
    "P(X_i \\geq k) &=  (1 - p_i)^{k-1}.\n",
    "\\end{align*}\n",
    "$$\n",
    "\n",
    "Recall that the expectation value of a geometric distributed random variable can be calculated by\n",
    "\n",
    "$$\n",
    "E[X_i] = \\sum_{k=1}^\\infty P(X_i \\geq k) = \\sum_{k=1}^\\infty (1 - p_i)^{k-1} = \\frac{1}{1-(1-p_i)} = \\frac{1}{p_i}.\n",
    "$$\n",
    "\n",
    "Therefore,\n",
    "\n",
    "$$\n",
    "E[X] = \\sum_{i=1}^n E[X_i] = \\sum_{i=1}^n \\frac{1}{p_i} = \\sum_{i=1}^n \\frac{1}{1 - \\frac{i-1}{n}}\n",
    "= n \\sum_{i=1}^n \\frac{1}{n-i+1} = n \\sum_{i=1}^n \\frac{1}{i} = n \\cdot H(n),\n",
    "$$\n",
    "\n",
    "where $H(n)$ denotes the $n$th harmonic number.\n",
    "\n",
    "In particular, for a $n=52$ card deck we get\n",
    "\n",
    "$$\n",
    "E[X] = 52 \\sum_{i=1}^{52} \\frac{1}{i} = 235.978\\dots.\n",
    "$$\n",
    "\n",
    "\n",
    "We can verify this by a simple (but inefficient) simulation with the following code."
   ]
  },
  {
   "cell_type": "code",
   "execution_count": 2,
   "id": "upset-assessment",
   "metadata": {},
   "outputs": [
    {
     "data": {
      "text/plain": [
       "236.4747"
      ]
     },
     "execution_count": 2,
     "metadata": {},
     "output_type": "execute_result"
    }
   ],
   "source": [
    "n = 52\n",
    "num_samples = 10000\n",
    "\n",
    "m = 20*n  # max. drawn per experiment\n",
    "\n",
    "\n",
    "def calculate_rv_X(a, n):\n",
    "    for i in range(1, len(a)+1):\n",
    "        if len(set(a[:i])) == n:\n",
    "            return i\n",
    "    raise RuntimeError(\"Draws exceeded. Try again or increase m.\")\n",
    "    \n",
    "samples = np.random.randint(low=0, high=n, size=(num_samples, m))\n",
    "\n",
    "#np.array([c(a, n) for a in aa]).mean()\n",
    "\n",
    "#sns.lineplot(x=np.arange(len(aa)), y=np.array([c(a, n) for a in aa]))\n",
    "\n",
    "sim_X = np.array([calculate_rv_X(s, n) for s in samples])\n",
    "sim_X.mean()"
   ]
  },
  {
   "cell_type": "code",
   "execution_count": null,
   "id": "frozen-bread",
   "metadata": {},
   "outputs": [],
   "source": []
  }
 ],
 "metadata": {
  "kernelspec": {
   "display_name": "Python 3",
   "language": "python",
   "name": "python3"
  },
  "language_info": {
   "codemirror_mode": {
    "name": "ipython",
    "version": 3
   },
   "file_extension": ".py",
   "mimetype": "text/x-python",
   "name": "python",
   "nbconvert_exporter": "python",
   "pygments_lexer": "ipython3",
   "version": "3.8.5"
  }
 },
 "nbformat": 4,
 "nbformat_minor": 5
}
