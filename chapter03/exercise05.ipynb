{
 "cells": [
  {
   "cell_type": "markdown",
   "id": "reflected-spice",
   "metadata": {},
   "source": [
    "# Exercise 3.5\n",
    "\n",
    "Given any two random variables $X$ and $Y$, by the linearity of expectations we have $E[X-Y] = E[X]-E[Y]$.\n",
    "Prove that, when $X$ and $Y$ are independent $\\mathrm{Var}(X-Y) = \\mathrm{Var}(X) + \\mathrm{Var}(Y)$.\n",
    "\n",
    "\n",
    "**Solution:**\n",
    "\n",
    "$$\n",
    "\\begin{align*}\n",
    "\\mathrm{Var}(X-Y)\n",
    "&= E[(X-Y)^2] - E[X-Y]^2\\\\\n",
    "&= E[X^2 - 2XY + Y^2] - (E[X] - E[Y])^2\\\\\n",
    "&= E[X^2] - 2 E[X]\\cdot E[Y] - E[Y^2] - (E[X]^2 - 2 E[X]\\cdot E[Y] + E[Y]^2)\\\\\n",
    "&= E[X^2] - E[X]^2 + E[Y^2] - E[Y]^2\\\\\n",
    "&= \\mathrm{Var}(x) + \\mathrm{Var}(Y)\n",
    "\\end{align*}\n",
    "$$"
   ]
  },
  {
   "cell_type": "code",
   "execution_count": null,
   "id": "reflected-registrar",
   "metadata": {},
   "outputs": [],
   "source": []
  }
 ],
 "metadata": {
  "kernelspec": {
   "display_name": "Python 3",
   "language": "python",
   "name": "python3"
  },
  "language_info": {
   "codemirror_mode": {
    "name": "ipython",
    "version": 3
   },
   "file_extension": ".py",
   "mimetype": "text/x-python",
   "name": "python",
   "nbconvert_exporter": "python",
   "pygments_lexer": "ipython3",
   "version": "3.8.5"
  }
 },
 "nbformat": 4,
 "nbformat_minor": 5
}
