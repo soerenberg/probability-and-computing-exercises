{
 "cells": [
  {
   "cell_type": "code",
   "execution_count": 1,
   "id": "intensive-magic",
   "metadata": {},
   "outputs": [],
   "source": [
    "import numpy as np"
   ]
  },
  {
   "cell_type": "markdown",
   "id": "pressed-mapping",
   "metadata": {},
   "source": [
    "# Exercise 3.6\n",
    "\n",
    "For a coin that comes up head independently with probability $p$ on each flip, what is the variance in the number of flips until the $k$th head appears?\n",
    "\n",
    "**Solution:** Let $X$ be the number of flips until the $k$th head appears and let $Y_i$, $i=1,\\dots,k$, be the number of throws until we see the $i$th head. Then each $Y_i$ is geometric distributed with parameter $p$ and all $Y_i$s are independent.\n",
    "\n",
    "Therefore,\n",
    "\n",
    "$$\n",
    "\\mathrm{Var}(X) = \\sum_{i=1}^k \\mathrm{Y_i} = k \\frac{(1-p)}{p^2},\n",
    "$$\n",
    "\n",
    "For example, for $k=11$ and $p=0.35$ this yields $21.224\\dots$.\n",
    "We verify this by simple sampling."
   ]
  },
  {
   "cell_type": "code",
   "execution_count": 2,
   "id": "several-inventory",
   "metadata": {},
   "outputs": [
    {
     "data": {
      "text/plain": [
       "21.133861223328264"
      ]
     },
     "execution_count": 2,
     "metadata": {},
     "output_type": "execute_result"
    }
   ],
   "source": [
    "num_samples = 5*10**6\n",
    "k= 4\n",
    "p = 0.35\n",
    "\n",
    "samples = np.random.choice(a=[0,1], p=[1-p, p], size=num_samples)\n",
    "\n",
    "ith_heads = np.cumsum(samples) % k\n",
    "\n",
    "seq = np.array([k-1, 0])\n",
    "\n",
    "indices = np.where([np.array_equal(a, seq) \n",
    "                    for a in np.stack([ith_heads[:-1], ith_heads[1:]], axis=1)])  # where do we see the $k$th head?\n",
    "np.diff(np.c_[0, indices]).var()"
   ]
  },
  {
   "cell_type": "code",
   "execution_count": null,
   "id": "loaded-preparation",
   "metadata": {},
   "outputs": [],
   "source": []
  }
 ],
 "metadata": {
  "kernelspec": {
   "display_name": "Python 3",
   "language": "python",
   "name": "python3"
  },
  "language_info": {
   "codemirror_mode": {
    "name": "ipython",
    "version": 3
   },
   "file_extension": ".py",
   "mimetype": "text/x-python",
   "name": "python",
   "nbconvert_exporter": "python",
   "pygments_lexer": "ipython3",
   "version": "3.8.5"
  }
 },
 "nbformat": 4,
 "nbformat_minor": 5
}
