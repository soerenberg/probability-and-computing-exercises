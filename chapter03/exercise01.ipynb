{
 "cells": [
  {
   "cell_type": "code",
   "execution_count": 1,
   "id": "invisible-helping",
   "metadata": {},
   "outputs": [],
   "source": [
    "import numpy as np"
   ]
  },
  {
   "cell_type": "markdown",
   "id": "impossible-shark",
   "metadata": {},
   "source": [
    "# Exercise 3.1\n",
    "\n",
    "Let $X$ be a number chosen uniformly at random from $[1,n]$. Find $\\mathrm{Var}(X)$.\n",
    "\n",
    "**Solution:** We have\n",
    "\n",
    "$$\n",
    "E[X] = \\sum_{i=1}^n i P(X=i) = \\frac 1 n \\sum_{i=1}^n i = \\frac 1 n \\frac{n(n+1)}{2} = \\frac{n+1}{2},\n",
    "$$\n",
    "\n",
    "and\n",
    "\n",
    "$$\n",
    "E[X^2] = \\sum_{i=1}^n i^2 P(X^2=i) = \\frac 1 n \\sum_{i=1}^n i^2 = \\frac 1 n \\frac{n(n+1)(2n+1)}{6}\n",
    " = \\frac{(n+1)(2n+1)}{6}.\n",
    "$$\n",
    "\n",
    "$$\n",
    "\\mathrm{Var}(X) = E[X^2] - E[X]^2 = \\frac{n^2-1}{12}.\n",
    "$$\n",
    "\n",
    "For instance, $\\mathrm{Var}(X)= 60.66\\dots$ for $n=27$.\n",
    "\n",
    "We verify this result with simple sampling."
   ]
  },
  {
   "cell_type": "code",
   "execution_count": 2,
   "id": "latin-balance",
   "metadata": {},
   "outputs": [
    {
     "data": {
      "text/plain": [
       "60.66757909209802"
      ]
     },
     "execution_count": 2,
     "metadata": {},
     "output_type": "execute_result"
    }
   ],
   "source": [
    "num_samples = 10**7\n",
    "n = 27\n",
    "\n",
    "samples = np.random.randint(low=1, high=n+1, size=num_samples)\n",
    "\n",
    "np.mean((samples - samples.mean())**2)"
   ]
  },
  {
   "cell_type": "code",
   "execution_count": null,
   "id": "lesser-pilot",
   "metadata": {},
   "outputs": [],
   "source": []
  }
 ],
 "metadata": {
  "kernelspec": {
   "display_name": "Python 3",
   "language": "python",
   "name": "python3"
  },
  "language_info": {
   "codemirror_mode": {
    "name": "ipython",
    "version": 3
   },
   "file_extension": ".py",
   "mimetype": "text/x-python",
   "name": "python",
   "nbconvert_exporter": "python",
   "pygments_lexer": "ipython3",
   "version": "3.8.5"
  }
 },
 "nbformat": 4,
 "nbformat_minor": 5
}
