{
 "cells": [
  {
   "cell_type": "code",
   "execution_count": 1,
   "id": "seeing-cursor",
   "metadata": {},
   "outputs": [],
   "source": [
    "import numpy as np"
   ]
  },
  {
   "cell_type": "markdown",
   "id": "romantic-senate",
   "metadata": {},
   "source": [
    "# Exercise 3.2\n",
    "\n",
    "Let $X$ be a number chosen uniformly at random from $[-k,k]$. Find $Var[X]$.\n",
    "\n",
    "**Solution:** If we shifted $X$ by $k+1$, we would get the uniform distribution over $[1,2k+1]$. Therefore, by exercise 3.1 we have\n",
    "\n",
    "$$\n",
    "\\mathrm{Var}[X] = \\frac{(2k+1)^2 - 1}{12} = \\frac{4k^2 + 4k}{12} = \\frac{k^2+k}{3}.\n",
    "$$\n",
    "\n",
    "In particular, for $k=29$ we get $\\mathrm{Var}[X] = 290$.\n",
    "\n",
    "We verify this by simple sampling."
   ]
  },
  {
   "cell_type": "code",
   "execution_count": 2,
   "id": "advanced-composition",
   "metadata": {},
   "outputs": [
    {
     "data": {
      "text/plain": [
       "290.12070818521016"
      ]
     },
     "execution_count": 2,
     "metadata": {},
     "output_type": "execute_result"
    }
   ],
   "source": [
    "num_samples = 10**7\n",
    "k = 29\n",
    "\n",
    "samples = np.random.randint(low=-k, high=k+1, size=num_samples)\n",
    "\n",
    "np.mean((samples - samples.mean())**2)"
   ]
  },
  {
   "cell_type": "code",
   "execution_count": null,
   "id": "south-robinson",
   "metadata": {},
   "outputs": [],
   "source": []
  }
 ],
 "metadata": {
  "kernelspec": {
   "display_name": "Python 3",
   "language": "python",
   "name": "python3"
  },
  "language_info": {
   "codemirror_mode": {
    "name": "ipython",
    "version": 3
   },
   "file_extension": ".py",
   "mimetype": "text/x-python",
   "name": "python",
   "nbconvert_exporter": "python",
   "pygments_lexer": "ipython3",
   "version": "3.8.5"
  }
 },
 "nbformat": 4,
 "nbformat_minor": 5
}
