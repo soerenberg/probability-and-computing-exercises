{
 "cells": [
  {
   "cell_type": "code",
   "execution_count": 1,
   "id": "intimate-performance",
   "metadata": {},
   "outputs": [],
   "source": [
    "import numpy as np"
   ]
  },
  {
   "cell_type": "markdown",
   "id": "important-jefferson",
   "metadata": {},
   "source": [
    "# Exercise 1.1\n",
    "\n",
    "We flip a fair coin ten times. Find the probability of the following events."
   ]
  },
  {
   "cell_type": "markdown",
   "id": "generic-highway",
   "metadata": {},
   "source": [
    "## (a)\n",
    "The number of heads and the number of tails are equal."
   ]
  },
  {
   "cell_type": "markdown",
   "id": "occupied-fountain",
   "metadata": {},
   "source": [
    "Let $N=10$. Then by simple combinatorics or using the Binomial distribution the desired probality is\n",
    "\n",
    "$$\n",
    "{N \\choose N/2} \\left(\\frac 1 2\\right)^{N/2} \\left(\\frac 1 2\\right)^{N/2}\n",
    "= {10 \\choose 5} \\frac{1}{2^{10}} = \\frac{63}{256} = 0.24609\\dots .\n",
    "$$\n",
    "\n",
    "We can verify this empirically:"
   ]
  },
  {
   "cell_type": "code",
   "execution_count": 29,
   "id": "dutch-philosophy",
   "metadata": {},
   "outputs": [
    {
     "data": {
      "text/plain": [
       "0.24696"
      ]
     },
     "execution_count": 29,
     "metadata": {},
     "output_type": "execute_result"
    }
   ],
   "source": [
    "N = 10\n",
    "num_samples = 100000\n",
    "\n",
    "samples = np.random.randint(low=0, high=2, size=(num_samples, N))\n",
    "\n",
    "(samples.sum(axis=1) == N / 2).sum() / len(samples)"
   ]
  },
  {
   "cell_type": "markdown",
   "id": "heated-terry",
   "metadata": {},
   "source": [
    "## (b)\n",
    "\n",
    "There are more heads than tails.\n",
    "\n",
    "Since the coin is fair this probability can be computed by symmetry as\n",
    "\n",
    "$$\n",
    "\\frac{1-p_1}{2},\n",
    "$$\n",
    "\n",
    "where $p_1$ denotes the probability found in part (a).\n",
    "Alternatively, it can be determined by using the binomial distribution:\n",
    "\n",
    "$$\n",
    "\\sum_{i=N/2+1}^N {N \\choose i}\\left(\\frac 1 2\\right)^N.\n",
    "$$\n",
    "\n",
    "Both ways evaluate to $193/512 = 0.37695\\dots$.\n",
    "\n",
    "Again we check empirically:"
   ]
  },
  {
   "cell_type": "code",
   "execution_count": 35,
   "id": "spatial-kentucky",
   "metadata": {},
   "outputs": [
    {
     "data": {
      "text/plain": [
       "0.37687"
      ]
     },
     "execution_count": 35,
     "metadata": {},
     "output_type": "execute_result"
    }
   ],
   "source": [
    "N = 10\n",
    "num_samples = 100000\n",
    "\n",
    "samples = np.random.randint(low=0, high=2, size=(num_samples, N))\n",
    "\n",
    "(samples.sum(axis=1) > N / 2).sum() / len(samples)"
   ]
  },
  {
   "cell_type": "markdown",
   "id": "designing-income",
   "metadata": {},
   "source": [
    "## (c)\n",
    "The $i$th flip and the $(11-i)$th flip are the same for $i=1,\\dots,5$.\n",
    "\n",
    "The probability that the $(11-i)$th flip equals the $i$th is $1/2$ for a single $i$. The event that this holds for all $i=1,\\dots,5$ therefore is $(1/2)^5 = 0.03125$.\n",
    "\n",
    "Again we check empirically:"
   ]
  },
  {
   "cell_type": "code",
   "execution_count": 43,
   "id": "general-disclosure",
   "metadata": {},
   "outputs": [
    {
     "data": {
      "text/plain": [
       "0.03124"
      ]
     },
     "execution_count": 43,
     "metadata": {},
     "output_type": "execute_result"
    }
   ],
   "source": [
    "N = 10\n",
    "num_samples = 100000\n",
    "\n",
    "samples = np.random.randint(low=0, high=2, size=(num_samples, N))\n",
    "\n",
    "np.product([samples[:,i] == samples[:, N-i-1] for i in range(5)], axis=0).sum() / len(samples)"
   ]
  },
  {
   "cell_type": "markdown",
   "id": "diagnostic-wholesale",
   "metadata": {},
   "source": [
    "## (d)\n",
    "We flip at least four consecutive heads.\n",
    "\n",
    "Let $E_i, i=1,\\dots, 7$, be the event that the first series of consecutive heads in the 10 tosses start at toss $i$. The probability of these events can than be computed quite easily. Note that beginning with $E_5$ the probability are ever so slightly more difficult to compute.\n",
    "\n",
    "Another way is to solve this by recursion.\n",
    "Let $E_{N, i}$ denote the event that in $N$ tosses there occur at least $i$ consecutive heads.\n",
    "Then, $P(E_{N, i}) = 0$ if $i>N$. Otherwise, the probability of $P(E_{N,i})$ can be split as follows. Either the $k$ consecutive heads already occurred in the first $N-1$ tosses **or** the first $N-i-1$ tosses do not contain a consecutive series of $i$ heads and the series of $n$ heads (out of all $N$ throws) start at toss $N-i$. This consideration yields\n",
    "\n",
    "$$\n",
    "P(E_{N, i}) = P(E_{N-1,i}) + (1 - P(E_{N-i-1, i})) \\left(\\frac 1 2\\right)^{i+1}.\n",
    "$$\n",
    "\n",
    "$$\n",
    "P(E_{10,4}) = P(E_{9,4}) + (1 - P(E_{5,4})) (1/2)^5, \\\\\n",
    "P(E_{5,4}) = (1/2)^4 + (1/2)^5,\\\\\n",
    "P(E_{9,4}) = P(E_{8,4}) + (1 - P(E_{4,4}) (1/2)^5,\\\\\n",
    "P(E_{4,4}) = (1/2)^4,\\\\\n",
    "P(E_{8,4}) = P(E_{7,4}) + (1 - P(E_{3,4})(1/2)^5 = P(E_{7,4}) + (1/2)^5,\\\\\n",
    "P(E_{7,4}) = P(E_{6,4}) + (1/2)^5,\\\\\n",
    "P(E_{6,4}) = P(E_{5,4}) + (1/2)^5,\\\\\n",
    "P(E_{5,4}) = P(E_{4,4}) + (1/2)^5,\\\\\n",
    "P(E_{4,4}) = (1/2)^4,\\\\\n",
    "$$\n",
    "\n",
    "\n",
    "$$\n",
    "P(E_{4,4}) = (1/2)^4,\\\\\n",
    "P(E_{5,4}) = P(E_{4,4}) + (1/2)^5 =(1/2)^4 + (1/2)^5,\\\\\n",
    "P(E_{6,4}) = P(E_{5,4}) + (1/2)^5 = (1/2)^3,\\\\\n",
    "P(E_{7,4}) = P(E_{6,4}) + (1/2)^5 = (1/2)^3 + (1/2)^5\\\\\n",
    "P(E_{8,4}) = P(E_{7,4}) + (1 - P(E_{3,4})(1/2)^5 = P(E_{7,4}) + (1/2)^5=(1/2)^3 + (1/2)^4\\\\\n",
    "P(E_{4,4}) = (1/2)^4,\\\\\n",
    "P(E_{9,4}) = P(E_{8,4}) + (1 - P(E_{4,4}) (1/2)^5 = (1/2)^3 + (1/2)^4 +(1-(1/2)^4) (1/2)^5\\\\\n",
    "P(E_{5,4}) = (1/2)^4 + (1/2)^5,\\\\\n",
    "P(E_{10,4}) = P(E_{9,4}) + (1 - P(E_{5,4})) (1/2)^5 = (1/2)^3 + (1/2)^4 +(1-(1/2)^4) (1/2)^5 + (1-(1/2)^4 + (1/2)^5) (1/2)^5\\\\\n",
    "$$"
   ]
  },
  {
   "cell_type": "code",
   "execution_count": 54,
   "id": "willing-michigan",
   "metadata": {},
   "outputs": [
    {
     "data": {
      "text/plain": [
       "0.24713"
      ]
     },
     "execution_count": 54,
     "metadata": {},
     "output_type": "execute_result"
    }
   ],
   "source": [
    "N = 10\n",
    "num_samples = 100000\n",
    "\n",
    "samples = np.random.randint(low=0, high=2, size=(num_samples, N))\n",
    "\n",
    "def check_consecutive_head(sample, n=4):\n",
    "    current_max = 0\n",
    "    current_streak = 0\n",
    "    for i in sample:\n",
    "        current_streak = current_streak + 1 if i else 0\n",
    "        current_max = max(current_streak ,current_max)\n",
    "    return current_max\n",
    "\n",
    "(np.array([check_consecutive_head(s) for s in samples]) >= 4).sum() / len(samples)"
   ]
  },
  {
   "cell_type": "code",
   "execution_count": 52,
   "id": "written-croatia",
   "metadata": {},
   "outputs": [
    {
     "data": {
      "text/plain": [
       "0"
      ]
     },
     "execution_count": 52,
     "metadata": {},
     "output_type": "execute_result"
    }
   ],
   "source": [
    "check_consecutive_head(np.array([0,0]))"
   ]
  },
  {
   "cell_type": "code",
   "execution_count": null,
   "id": "executive-bedroom",
   "metadata": {},
   "outputs": [],
   "source": []
  }
 ],
 "metadata": {
  "kernelspec": {
   "display_name": "Python 3",
   "language": "python",
   "name": "python3"
  },
  "language_info": {
   "codemirror_mode": {
    "name": "ipython",
    "version": 3
   },
   "file_extension": ".py",
   "mimetype": "text/x-python",
   "name": "python",
   "nbconvert_exporter": "python",
   "pygments_lexer": "ipython3",
   "version": "3.8.5"
  }
 },
 "nbformat": 4,
 "nbformat_minor": 5
}
