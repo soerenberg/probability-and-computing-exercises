{
 "cells": [
  {
   "cell_type": "code",
   "execution_count": 1,
   "id": "intimate-performance",
   "metadata": {},
   "outputs": [],
   "source": [
    "import numpy as np"
   ]
  },
  {
   "cell_type": "markdown",
   "id": "important-jefferson",
   "metadata": {},
   "source": [
    "# Exercise 1.10\n",
    "\n",
    "I have a fair coin and a two-headed coin. I choose one of the two coins randomly with equal probability and flip it. Given that the flip was heads, what is the probability that I flipped the two-headed coin?\n",
    "\n",
    "**Solution:**\n",
    "Let $F$ denote picking the fair coin and $T$ picking the two-headed coin, respectively. Furthermore, let $H$ denote the event that the chosen coin shows head.\n",
    "\n",
    "Then we have\n",
    "\n",
    "$$\n",
    "P(T | H) =\n",
    "\\frac{P(H \\cap T)}{P(H)} =\n",
    "\\frac{P(H | T) \\cdot P(H)}{P(T \\cap H) + P(F \\cap H)} =\n",
    "\\frac{P(H | T) \\cdot P(H)}{P(H|T) \\cdot P(T) + P(H|F) \\cdot P(F)} =\n",
    "\\frac{1 \\cdot \\tfrac 1 2}{1 \\cdot \\tfrac 1 2 + \\tfrac 1 2 \\tfrac 1 2} =\n",
    "\\frac 2 3.\n",
    "$$\n",
    "\n",
    "We can check this by simulation."
   ]
  },
  {
   "cell_type": "code",
   "execution_count": 2,
   "id": "received-squad",
   "metadata": {},
   "outputs": [
    {
     "data": {
      "text/plain": [
       "0.669433509041169"
      ]
     },
     "execution_count": 2,
     "metadata": {},
     "output_type": "execute_result"
    }
   ],
   "source": [
    "num_samples = 100000\n",
    "\n",
    "chosen_coin = np.random.randint(low=0, high=2, size=num_samples)  # 0 = fair, 1 = two-headed\n",
    "heads = np.random.randint(low=0, high=2, size=num_samples) + chosen_coin > 0\n",
    "\n",
    "(chosen_coin * heads).sum() / heads.sum()"
   ]
  },
  {
   "cell_type": "code",
   "execution_count": null,
   "id": "authentic-monitoring",
   "metadata": {},
   "outputs": [],
   "source": []
  }
 ],
 "metadata": {
  "kernelspec": {
   "display_name": "Python 3",
   "language": "python",
   "name": "python3"
  },
  "language_info": {
   "codemirror_mode": {
    "name": "ipython",
    "version": 3
   },
   "file_extension": ".py",
   "mimetype": "text/x-python",
   "name": "python",
   "nbconvert_exporter": "python",
   "pygments_lexer": "ipython3",
   "version": "3.8.5"
  }
 },
 "nbformat": 4,
 "nbformat_minor": 5
}
